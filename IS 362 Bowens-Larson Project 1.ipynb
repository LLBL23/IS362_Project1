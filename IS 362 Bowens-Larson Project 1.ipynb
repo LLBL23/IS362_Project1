{
  "metadata": {
    "kernelspec": {
      "name": "python",
      "display_name": "Python (Pyodide)",
      "language": "python"
    },
    "language_info": {
      "codemirror_mode": {
        "name": "python",
        "version": 3
      },
      "file_extension": ".py",
      "mimetype": "text/x-python",
      "name": "python",
      "nbconvert_exporter": "python",
      "pygments_lexer": "ipython3",
      "version": "3.8"
    }
  },
  "nbformat_minor": 5,
  "nbformat": 4,
  "cells": [
    {
      "id": "45d81e71-907a-45ed-bf91-64419fb5cb74",
      "cell_type": "markdown",
      "source": "# IS 362 - Project 1\n\n## Airline Arrival Delays Analysis\n\n### Loading Data\n\nData was collected from two airlines (Alaska and Am West) describing arrival delays across five destinations and loaded into a .CSV file. \n\nThe information from the .CSV file was then read into pandas and a DataFrame was created.",
      "metadata": {}
    },
    {
      "id": "5a5d03e4-479a-4ba3-a97c-4fd137514a10",
      "cell_type": "code",
      "source": "# import pandas and numpy\nimport pandas as pd\nimport numpy as np\n\n# load data from CSV file into a DataFrame\ndf = pd.read_csv(\"delays.csv\")\ndf",
      "metadata": {
        "trusted": true
      },
      "outputs": [
        {
          "execution_count": 32,
          "output_type": "execute_result",
          "data": {
            "text/plain": "   carrier     destination on _time  delayed\n0   ALASKA     Los Angeles      497       62\n1   ALASKA         Phoenix      221       12\n2   ALASKA       San Diego      212       20\n3   ALASKA  San Francisco       503      102\n4   ALASKA         Seattle    1,841      305\n5  AM WEST     Los Angeles      694      117\n6  AM WEST         Phoenix    4,840      415\n7  AM WEST       San Diego      383       65\n8  AM WEST  San Francisco       320      129\n9  AM WEST         Seattle      201       61",
            "text/html": "<div>\n<style scoped>\n    .dataframe tbody tr th:only-of-type {\n        vertical-align: middle;\n    }\n\n    .dataframe tbody tr th {\n        vertical-align: top;\n    }\n\n    .dataframe thead th {\n        text-align: right;\n    }\n</style>\n<table border=\"1\" class=\"dataframe\">\n  <thead>\n    <tr style=\"text-align: right;\">\n      <th></th>\n      <th>carrier</th>\n      <th>destination</th>\n      <th>on _time</th>\n      <th>delayed</th>\n    </tr>\n  </thead>\n  <tbody>\n    <tr>\n      <th>0</th>\n      <td>ALASKA</td>\n      <td>Los Angeles</td>\n      <td>497</td>\n      <td>62</td>\n    </tr>\n    <tr>\n      <th>1</th>\n      <td>ALASKA</td>\n      <td>Phoenix</td>\n      <td>221</td>\n      <td>12</td>\n    </tr>\n    <tr>\n      <th>2</th>\n      <td>ALASKA</td>\n      <td>San Diego</td>\n      <td>212</td>\n      <td>20</td>\n    </tr>\n    <tr>\n      <th>3</th>\n      <td>ALASKA</td>\n      <td>San Francisco</td>\n      <td>503</td>\n      <td>102</td>\n    </tr>\n    <tr>\n      <th>4</th>\n      <td>ALASKA</td>\n      <td>Seattle</td>\n      <td>1,841</td>\n      <td>305</td>\n    </tr>\n    <tr>\n      <th>5</th>\n      <td>AM WEST</td>\n      <td>Los Angeles</td>\n      <td>694</td>\n      <td>117</td>\n    </tr>\n    <tr>\n      <th>6</th>\n      <td>AM WEST</td>\n      <td>Phoenix</td>\n      <td>4,840</td>\n      <td>415</td>\n    </tr>\n    <tr>\n      <th>7</th>\n      <td>AM WEST</td>\n      <td>San Diego</td>\n      <td>383</td>\n      <td>65</td>\n    </tr>\n    <tr>\n      <th>8</th>\n      <td>AM WEST</td>\n      <td>San Francisco</td>\n      <td>320</td>\n      <td>129</td>\n    </tr>\n    <tr>\n      <th>9</th>\n      <td>AM WEST</td>\n      <td>Seattle</td>\n      <td>201</td>\n      <td>61</td>\n    </tr>\n  </tbody>\n</table>\n</div>"
          },
          "metadata": {}
        }
      ],
      "execution_count": 32
    },
    {
      "id": "8f2b1711-7014-426d-b1dd-4a54372f1383",
      "cell_type": "markdown",
      "source": "### Analysis\n\nThe Alaska Airlines data was separated and the sum of the arrival delays was calculated.",
      "metadata": {}
    },
    {
      "id": "72912124-fe88-4060-84a9-2fd5781a161d",
      "cell_type": "code",
      "source": "# copy first 5 rows of DataFrame for Alaska airline data\nalaska_copy = df.head().copy()\nalaska_copy\n\n# calculate the sum of the delayed column for alaska_delays\nalaska_delays = alaska_copy[\"delayed\"].sum()\nprint(\"Alaska Airlines arrival delays =\", alaska_delays)",
      "metadata": {
        "trusted": true
      },
      "outputs": [
        {
          "name": "stdout",
          "output_type": "stream",
          "text": "Alaska Airlines arrival delays = 501\n"
        }
      ],
      "execution_count": 36
    },
    {
      "id": "d1ccabe7-9313-496b-80d1-54dd474c8282",
      "cell_type": "markdown",
      "source": "Then the Am West Airlines data was separated and the sum of the arrival delays was calculated.",
      "metadata": {}
    },
    {
      "id": "26119caf-34ff-4042-8621-99c2b73d3138",
      "cell_type": "code",
      "source": "# copy last 5 rows of DataFrame for Am West airline data\namwest_copy = df.tail().copy()\namwest_copy\n\n# calculate the sum of the delayed column for  \namwest_delays = amwest_copy[\"delayed\"].sum()\nprint(\"Am West Airlines arrival delays =\", amwest_delays)",
      "metadata": {
        "trusted": true
      },
      "outputs": [
        {
          "name": "stdout",
          "output_type": "stream",
          "text": "Am West Airlines arrival delays = 787\n"
        }
      ],
      "execution_count": 34
    },
    {
      "id": "5249125a-b5d6-4fa8-afc3-1b1906494a3e",
      "cell_type": "markdown",
      "source": "### Conclusion\nThe result of the analysis is that the sum of Am West Airlines delays was greater than that of Alaska Airlines delays. ",
      "metadata": {}
    },
    {
      "id": "4df7dba3-1486-411f-bce8-8bfb1f6d8c10",
      "cell_type": "code",
      "source": "print(\"Alaska Airlines arrival delays =\", alaska_delays)\nprint(\"Am West Airlines arrival delays =\", amwest_delays)",
      "metadata": {
        "trusted": true
      },
      "outputs": [
        {
          "name": "stdout",
          "output_type": "stream",
          "text": "Alaska Airlines arrival delays = 501\nAm West Airlines arrival delays = 787\n"
        }
      ],
      "execution_count": 35
    }
  ]
}